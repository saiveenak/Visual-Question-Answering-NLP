{
 "cells": [
  {
   "cell_type": "code",
   "execution_count": 2,
   "metadata": {
    "collapsed": true
   },
   "outputs": [],
   "source": [
    "import pandas as pd"
   ]
  },
  {
   "cell_type": "code",
   "execution_count": 3,
   "metadata": {},
   "outputs": [
    {
     "name": "stdout",
     "output_type": "stream",
     "text": [
      "14261\r"
     ]
    }
   ],
   "source": [
    "from nltk import word_tokenize\n",
    "MAX_LEN = 13\n",
    "\n",
    "def get3DMatrix(captions, embeddings):\n",
    "    res = []\n",
    "    for caption in captions:\n",
    "        sentence = [np.asarray([0]*300,dtype='float32')]*MAX_LEN\n",
    "        words = word_tokenize(caption)\n",
    "        for i, word in enumerate(words):\n",
    "            sentence[i] = embeddings.get(word, np.asarray([0]*300,dtype='float32'))\n",
    "        res.append(sentence)\n",
    "    return np.asarray(res)\n",
    "\n",
    "matrix_map = {}\n",
    "with open('train.csv') as f:\n",
    "    for i, line in enumerate(f):\n",
    "        print(i, end='\\r')\n",
    "        image_id, captions, questions, answers = line.split('::zz')\n",
    "        captions = captions.split('#:#')\n",
    "        matrix_map[image_id] = get3DMatrix(captions, embeddings)"
   ]
  },
  {
   "cell_type": "code",
   "execution_count": 4,
   "metadata": {},
   "outputs": [
    {
     "name": "stdout",
     "output_type": "stream",
     "text": [
      "14261\r"
     ]
    }
   ],
   "source": [
    "data = {'image_id': [], 'captions': [], 'questions': [], 'answers': [], 'question_ids': [], 'caption_matrix': []}\n",
    "with open('train.csv') as f:\n",
    "    for i, line in enumerate(f):\n",
    "        print(i, end='\\r')\n",
    "        image_id, captions, questions, answers = line.split('::zz')\n",
    "        captions = captions.split('#:#')\n",
    "        questions = questions.split('#:#')\n",
    "        answers = answers.split('#:#')\n",
    "        question_answers = []\n",
    "        questionsMod = {}\n",
    "        answersMod = {}\n",
    "        for i in range(len(questions)):\n",
    "            if i%2 == 0:\n",
    "                questionsMod[questions[i]] = questions[i+1]\n",
    "        for i in range((len(answers))):\n",
    "            if i %2 == 0:\n",
    "                answersMod[answers[i]] = answers[i+1]\n",
    "        for question_id in questionsMod:\n",
    "            question_answers.append((question_id, questionsMod[question_id], answersMod[question_id]))\n",
    "        for question_id, question, answer in question_answers:\n",
    "            data['image_id'].append(image_id)\n",
    "            data['captions'].append(captions)\n",
    "            data['questions'].append(question)\n",
    "            data['answers'].append(answer)\n",
    "            data['question_ids'].append(question_id)\n",
    "            data['caption_matrix'].append(matrix_map[image_id])"
   ]
  },
  {
   "cell_type": "code",
   "execution_count": 5,
   "metadata": {},
   "outputs": [
    {
     "name": "stdout",
     "output_type": "stream",
     "text": [
      "         answers                                     caption_matrix  \\\n",
      "0    living room  [[[0.68758, -0.34531, -0.18579, 0.2387, -0.071...   \n",
      "1            yes  [[[0.68758, -0.34531, -0.18579, 0.2387, -0.071...   \n",
      "2  living room\\n  [[[0.68758, -0.34531, -0.18579, 0.2387, -0.071...   \n",
      "3            yes  [[[0.21497, -0.29447, -0.47612, -0.029865, 0.2...   \n",
      "4              1  [[[0.21497, -0.29447, -0.47612, -0.029865, 0.2...   \n",
      "\n",
      "                                            captions image_id question_ids  \\\n",
      "0  [window with white frame, black leather couch,...    98304     98304001   \n",
      "1  [window with white frame, black leather couch,...    98304     98304000   \n",
      "2  [window with white frame, black leather couch,...    98304     98304002   \n",
      "3  [train on the tracks, train on the tracks, yel...    32773     32773001   \n",
      "4  [train on the tracks, train on the tracks, yel...    32773     32773000   \n",
      "\n",
      "                                questions  \n",
      "0             Where in the house is this?  \n",
      "1     Is the furniture made from leather?  \n",
      "2                     Which room is this?  \n",
      "3  Is there anyone waiting for the train?  \n",
      "4              How many trains are there?  \n"
     ]
    }
   ],
   "source": [
    "df = pd.DataFrame(data=data)\n",
    "print(df.head())\n",
    "df.to_pickle('trainv1.pkl')"
   ]
  },
  {
   "cell_type": "code",
   "execution_count": 1,
   "metadata": {},
   "outputs": [
    {
     "name": "stdout",
     "output_type": "stream",
     "text": [
      "ex:1/i:52343\n",
      "ex:2/i:128261\n",
      "ex:3/i:151102\n",
      "ex:4/i:200668\n",
      "ex:5/i:209833\n",
      "ex:6/i:220779\n",
      "ex:7/i:253461\n",
      "ex:8/i:365745\n",
      "ex:9/i:532048\n",
      "ex:10/i:717302\n",
      "ex:11/i:994818\n",
      "ex:12/i:1123331\n",
      "ex:13/i:1148409\n",
      "ex:14/i:1352110\n",
      "ex:15/i:1499727\n",
      "ex:16/i:1533809\n"
     ]
    }
   ],
   "source": [
    "import numpy as np\n",
    "embeddings = {}\n",
    "cnt = 0\n",
    "with open('./../embeddings/glove.840B.300d.txt','r') as f:\n",
    "    for i, line in enumerate(f):\n",
    "        values = line.split()\n",
    "        word = values[0]\n",
    "        try:\n",
    "            coefs = np.asarray(values[1:],dtype='float32')\n",
    "        except Exception as ex:\n",
    "            cnt += 1\n",
    "            print(\"ex:{}/i:{}\".format(cnt, i))\n",
    "            continue\n",
    "        embeddings[word] = coefs"
   ]
  },
  {
   "cell_type": "code",
   "execution_count": 72,
   "metadata": {},
   "outputs": [
    {
     "data": {
      "text/plain": [
       "76380"
      ]
     },
     "execution_count": 72,
     "metadata": {},
     "output_type": "execute_result"
    }
   ],
   "source": [
    "df = pd.read_pickle('train.pkl')"
   ]
  },
  {
   "cell_type": "code",
   "execution_count": 21,
   "metadata": {},
   "outputs": [
    {
     "name": "stdout",
     "output_type": "stream",
     "text": [
      "11\n"
     ]
    }
   ],
   "source": [
    "mx = 0\n",
    "for index, row in df.iterrows():\n",
    "    captions = row['captions']\n",
    "    for caption in captions:\n",
    "        mx = max(len(caption.split(' ')), mx)\n",
    "print(mx)"
   ]
  },
  {
   "cell_type": "code",
   "execution_count": 73,
   "metadata": {},
   "outputs": [
    {
     "name": "stdout",
     "output_type": "stream",
     "text": [
      "(10, 11, 300)\n"
     ]
    }
   ],
   "source": [
    "from nltk import word_tokenize\n",
    "MAX_LEN = 11\n",
    "\n",
    "def get3DMatrix(captions, embeddings):\n",
    "    res = []\n",
    "    for caption in captions:\n",
    "        sentence = [np.asarray([0]*300,dtype='float32')]*MAX_LEN\n",
    "        words = word_tokenize(caption)\n",
    "        for i, word in enumerate(words):\n",
    "            sentence[i] = embeddings.get(word, np.asarray([0]*300,dtype='float32'))\n",
    "        res.append(sentence)\n",
    "    return np.asarray(res)\n",
    "        \n",
    "mat = get3DMatrix(captions, embeddings)\n",
    "print(mat.shape)"
   ]
  },
  {
   "cell_type": "code",
   "execution_count": 1,
   "metadata": {
    "collapsed": true
   },
   "outputs": [],
   "source": [
    "import json\n",
    "with open('results_val/results_val.json') as f:\n",
    "    cont = f.read()\n",
    "results = json.loads(cont)\n",
    "with open('results_val/questions.json') as f:\n",
    "    cont = f.read()\n",
    "questions = json.loads(cont)\n",
    "with open('results_val/annotations.json') as f:\n",
    "    cont = f.read()\n",
    "answers = json.loads(cont)"
   ]
  },
  {
   "cell_type": "code",
   "execution_count": 13,
   "metadata": {},
   "outputs": [
    {
     "name": "stdout",
     "output_type": "stream",
     "text": [
      "[  0  57 258 102  94 166 166 141 184 174]\n",
      "[ 57   0 201 157 134 111 162 198 208 138]\n",
      "[258 201   0 353 313  95 257 399 369 161]\n",
      "[102 157 353   0  62 259 184  57 216 238]\n",
      "[ 94 134 313  62   0 218 122 119 255 183]\n",
      "[166 111  95 259 218   0 177 306 301  91]\n",
      "[166 162 257 184 122 177   0 242 350  97]\n",
      "[141 198 399  57 119 306 242   0 197 293]\n",
      "[184 208 369 216 255 301 350 197   0 346]\n",
      "[174 138 161 238 183  91  97 293 346   0]\n"
     ]
    }
   ],
   "source": [
    "import numpy as np\n",
    "def euclideanDist(p1, p2):\n",
    "    return ((p1[0]-p2[0])**2 + (p1[1]-p2[1])**2)**0.5\n",
    "boxes = results['results'][0]['boxes'][:10]\n",
    "points = [((box[0]+box[2])/2, (box[1]+box[2])/2) for box in boxes]\n",
    "res = np.asarray([np.asarray([0]*10) for _ in range(10)])\n",
    "for i in range(10):\n",
    "    for j in range(10):\n",
    "        res[i][j] = euclideanDist(points[i], points[j])\n",
    "for row in res:\n",
    "    print(row)"
   ]
  },
  {
   "cell_type": "code",
   "execution_count": 42,
   "metadata": {
    "collapsed": true
   },
   "outputs": [],
   "source": [
    "mp = {}\n",
    "for result in results['results'][:6750]:\n",
    "    img_id = int(result['img_name'].split('.')[0].split('_')[-1])\n",
    "    mp[img_id] = []\n",
    "    mp[img_id].append(result['captions'][:10])\n",
    "    mp[img_id].append([])\n",
    "    mp[img_id].append([])\n",
    "    mp[img_id].append(result['boxes'][:10])\n",
    "for question in questions['questions']:\n",
    "    img_id, question, question_id = question['image_id'], question['question'], question['question_id']\n",
    "    if img_id in mp:\n",
    "        mp[img_id][1].append([question_id, question])\n",
    "for answer in answers['annotations']:\n",
    "    img_id, multiple_choice_answer, question_id = answer['image_id'], answer['multiple_choice_answer'], answer['question_id']\n",
    "    if img_id in mp:\n",
    "        mp[img_id][2].append([question_id, multiple_choice_answer])"
   ]
  },
  {
   "cell_type": "code",
   "execution_count": 36,
   "metadata": {},
   "outputs": [
    {
     "name": "stdout",
     "output_type": "stream",
     "text": [
      "13\n"
     ]
    }
   ],
   "source": [
    "df = pd.read_pickle('val.pkl')\n",
    "mx = 0\n",
    "for index, row in df.iterrows():\n",
    "    captions = row['captions']\n",
    "    for caption in captions:\n",
    "        mx = max(len(caption.split(' ')), mx)\n",
    "print(mx)"
   ]
  },
  {
   "cell_type": "code",
   "execution_count": 37,
   "metadata": {},
   "outputs": [
    {
     "data": {
      "text/plain": [
       "607560"
      ]
     },
     "execution_count": 37,
     "metadata": {},
     "output_type": "execute_result"
    }
   ],
   "source": [
    "df.size"
   ]
  },
  {
   "cell_type": "code",
   "execution_count": 45,
   "metadata": {
    "collapsed": true
   },
   "outputs": [],
   "source": [
    "from nltk import word_tokenize\n",
    "MAX_LEN = 13\n",
    "\n",
    "def get3DMatrix(captions, embeddings):\n",
    "    res = []\n",
    "    for caption in captions:\n",
    "        sentence = [np.asarray([0]*300,dtype='float32')]*MAX_LEN\n",
    "        words = word_tokenize(caption)\n",
    "        for i, word in enumerate(words):\n",
    "            sentence[i] = embeddings.get(word, np.asarray([0]*300,dtype='float32'))\n",
    "        res.append(sentence)\n",
    "    return np.asarray(res)\n",
    "\n",
    "matrix_map = {}\n",
    "for image_id in mp:\n",
    "    captions = mp[image_id][0]\n",
    "    matrix_map[image_id] = get3DMatrix(captions, embeddings)"
   ]
  },
  {
   "cell_type": "code",
   "execution_count": 46,
   "metadata": {
    "collapsed": true
   },
   "outputs": [],
   "source": [
    "data = {'image_id': [], 'captions': [], 'questions': [], 'answers': [], 'question_ids': [], 'caption_matrix': []}\n",
    "for image_id in mp:\n",
    "    captions, questions, answers = mp[image_id]\n",
    "    question_answers = []\n",
    "    questionsMod = {}\n",
    "    answersMod = {}\n",
    "    for q_id, q in questions:\n",
    "        questionsMod[q_id] = q\n",
    "    for q_id, a in answers:\n",
    "        answersMod[q_id] = a\n",
    "    for question_id in questionsMod:\n",
    "        question_answers.append((question_id, questionsMod[question_id], answersMod[question_id]))\n",
    "    for question_id, question, answer in question_answers:\n",
    "        data['image_id'].append(image_id)\n",
    "        data['captions'].append(captions)\n",
    "        data['questions'].append(question)\n",
    "        data['answers'].append(answer)\n",
    "        data['question_ids'].append(question_id)\n",
    "        data['caption_matrix'].append(matrix_map[image_id])"
   ]
  },
  {
   "cell_type": "code",
   "execution_count": 47,
   "metadata": {},
   "outputs": [
    {
     "name": "stdout",
     "output_type": "stream",
     "text": [
      "       answers                                     caption_matrix  \\\n",
      "0           no  [[[0.043798, 0.024779, -0.20937, 0.49745, 0.36...   \n",
      "1  city street  [[[0.043798, 0.024779, -0.20937, 0.49745, 0.36...   \n",
      "2          yes  [[[0.043798, 0.024779, -0.20937, 0.49745, 0.36...   \n",
      "3        black  [[[0.043798, 0.024779, -0.20937, 0.49745, 0.36...   \n",
      "4        brush  [[[0.043798, 0.024779, -0.20937, 0.49745, 0.36...   \n",
      "\n",
      "                                            captions  image_id  question_ids  \\\n",
      "0  [a traffic light, a red traffic light, a city ...    360449       3604490   \n",
      "1  [a traffic light, a red traffic light, a city ...    360449       3604491   \n",
      "2  [a traffic light, a red traffic light, a city ...    360449       3604492   \n",
      "3  [a cat in a sink, the cat is looking at the ca...    245764       2457640   \n",
      "4  [a cat in a sink, the cat is looking at the ca...    245764       2457641   \n",
      "\n",
      "                                           questions  \n",
      "0  Is this the best sunset picture you've ever seen?  \n",
      "1                               What street is this?  \n",
      "2           Are there lots of lights in this street?  \n",
      "3  What color is the cat sitting on top of the to...  \n",
      "4                  What is next to the toilet paper?  \n"
     ]
    }
   ],
   "source": [
    "import pandas as pd\n",
    "df = pd.DataFrame(data=data)\n",
    "print(df.head())\n",
    "df.to_pickle('valv1.pkl')"
   ]
  },
  {
   "cell_type": "code",
   "execution_count": 1,
   "metadata": {
    "collapsed": true
   },
   "outputs": [],
   "source": [
    "word_idx = {}\n",
    "with open('./../embeddings/word_idx') as f:\n",
    "    for line in f:\n",
    "        word, idx = line.split(' ')\n",
    "        word_idx[word] = idx"
   ]
  },
  {
   "cell_type": "code",
   "execution_count": 4,
   "metadata": {
    "collapsed": true
   },
   "outputs": [],
   "source": [
    "import pickle\n",
    "with open('../embeddings/word_idx_1', 'wb') as f:\n",
    "    pickle.dump(word_idx, f)"
   ]
  },
  {
   "cell_type": "code",
   "execution_count": 7,
   "metadata": {
    "collapsed": true
   },
   "outputs": [],
   "source": [
    "path = '../embeddings/word_idx_1'\n",
    "with open(path,'rb') as file:\n",
    "    word_idx = pickle.load(file)"
   ]
  },
  {
   "cell_type": "code",
   "execution_count": 1,
   "metadata": {
    "collapsed": true
   },
   "outputs": [],
   "source": [
    "import pandas as pd\n",
    "df = pd.read_pickle('../test.pkl')"
   ]
  },
  {
   "cell_type": "code",
   "execution_count": 3,
   "metadata": {},
   "outputs": [
    {
     "data": {
      "text/html": [
       "<div>\n",
       "<style scoped>\n",
       "    .dataframe tbody tr th:only-of-type {\n",
       "        vertical-align: middle;\n",
       "    }\n",
       "\n",
       "    .dataframe tbody tr th {\n",
       "        vertical-align: top;\n",
       "    }\n",
       "\n",
       "    .dataframe thead th {\n",
       "        text-align: right;\n",
       "    }\n",
       "</style>\n",
       "<table border=\"1\" class=\"dataframe\">\n",
       "  <thead>\n",
       "    <tr style=\"text-align: right;\">\n",
       "      <th></th>\n",
       "      <th>answers</th>\n",
       "      <th>captions</th>\n",
       "      <th>image_id</th>\n",
       "      <th>question_ids</th>\n",
       "      <th>questions</th>\n",
       "      <th>top_answers</th>\n",
       "    </tr>\n",
       "  </thead>\n",
       "  <tbody>\n",
       "    <tr>\n",
       "      <th>0</th>\n",
       "      <td>[no]</td>\n",
       "      <td>[[a traffic light, a red traffic light, a city...</td>\n",
       "      <td>[360449]</td>\n",
       "      <td>[3604490]</td>\n",
       "      <td>Is this the best sunset picture you've ever seen?</td>\n",
       "      <td>[no, yes, yes\\n]</td>\n",
       "    </tr>\n",
       "    <tr>\n",
       "      <th>1</th>\n",
       "      <td>[city street]</td>\n",
       "      <td>[[a traffic light, a red traffic light, a city...</td>\n",
       "      <td>[360449]</td>\n",
       "      <td>[3604491]</td>\n",
       "      <td>What street is this?</td>\n",
       "      <td>[racing, beige, beach]</td>\n",
       "    </tr>\n",
       "    <tr>\n",
       "      <th>2</th>\n",
       "      <td>[yes]</td>\n",
       "      <td>[[a traffic light, a red traffic light, a city...</td>\n",
       "      <td>[360449]</td>\n",
       "      <td>[3604492]</td>\n",
       "      <td>Are there lots of lights in this street?</td>\n",
       "      <td>[no, yes, yes\\n]</td>\n",
       "    </tr>\n",
       "    <tr>\n",
       "      <th>3</th>\n",
       "      <td>[black]</td>\n",
       "      <td>[[a cat in a sink, the cat is looking at the c...</td>\n",
       "      <td>[245764]</td>\n",
       "      <td>[2457640]</td>\n",
       "      <td>What color is the cat sitting on top of the to...</td>\n",
       "      <td>[blue, green, white]</td>\n",
       "    </tr>\n",
       "    <tr>\n",
       "      <th>4</th>\n",
       "      <td>[brush]</td>\n",
       "      <td>[[a cat in a sink, the cat is looking at the c...</td>\n",
       "      <td>[245764]</td>\n",
       "      <td>[2457641]</td>\n",
       "      <td>What is next to the toilet paper?</td>\n",
       "      <td>[soup, water, phone]</td>\n",
       "    </tr>\n",
       "    <tr>\n",
       "      <th>5</th>\n",
       "      <td>[toilet]</td>\n",
       "      <td>[[a cat in a sink, the cat is looking at the c...</td>\n",
       "      <td>[245764]</td>\n",
       "      <td>[2457642]</td>\n",
       "      <td>Where is the cat?</td>\n",
       "      <td>[parking lot, plane, umbrella]</td>\n",
       "    </tr>\n",
       "    <tr>\n",
       "      <th>6</th>\n",
       "      <td>[yes]</td>\n",
       "      <td>[[man carrying a surfboard, two people walking...</td>\n",
       "      <td>[434177]</td>\n",
       "      <td>[4341770]</td>\n",
       "      <td>Will the people's feet get wet?</td>\n",
       "      <td>[no, yes, no\\n]</td>\n",
       "    </tr>\n",
       "    <tr>\n",
       "      <th>7</th>\n",
       "      <td>[surfboards]</td>\n",
       "      <td>[[man carrying a surfboard, two people walking...</td>\n",
       "      <td>[434177]</td>\n",
       "      <td>[4341771]</td>\n",
       "      <td>What are the people caring in their arms?</td>\n",
       "      <td>[cake, down, 9]</td>\n",
       "    </tr>\n",
       "    <tr>\n",
       "      <th>8</th>\n",
       "      <td>[surfboards]</td>\n",
       "      <td>[[man carrying a surfboard, two people walking...</td>\n",
       "      <td>[434177]</td>\n",
       "      <td>[4341772]</td>\n",
       "      <td>What are they carrying?</td>\n",
       "      <td>[taxi, cake\\n, flying]</td>\n",
       "    </tr>\n",
       "    <tr>\n",
       "      <th>9</th>\n",
       "      <td>[no]</td>\n",
       "      <td>[[a red fire hydrant, red fire hydrant, red fi...</td>\n",
       "      <td>[229385]</td>\n",
       "      <td>[2293850]</td>\n",
       "      <td>Does the hydrant need repainting?</td>\n",
       "      <td>[yes\\n, no, yes]</td>\n",
       "    </tr>\n",
       "    <tr>\n",
       "      <th>10</th>\n",
       "      <td>[yes]</td>\n",
       "      <td>[[a red fire hydrant, red fire hydrant, red fi...</td>\n",
       "      <td>[229385]</td>\n",
       "      <td>[2293851]</td>\n",
       "      <td>Why is the hydrant red?</td>\n",
       "      <td>[yes, playing, rocks]</td>\n",
       "    </tr>\n",
       "    <tr>\n",
       "      <th>11</th>\n",
       "      <td>[yes]</td>\n",
       "      <td>[[a red fire hydrant, red fire hydrant, red fi...</td>\n",
       "      <td>[229385]</td>\n",
       "      <td>[2293852]</td>\n",
       "      <td>Was the photographer looking down at the red t...</td>\n",
       "      <td>[yes, no, yes\\n]</td>\n",
       "    </tr>\n",
       "    <tr>\n",
       "      <th>12</th>\n",
       "      <td>[yes]</td>\n",
       "      <td>[[cat laying on a bed, a hat with a hat, cat h...</td>\n",
       "      <td>[229387]</td>\n",
       "      <td>[2293872]</td>\n",
       "      <td>Would one suspect the cat finds this tedious?</td>\n",
       "      <td>[no, no\\n, yes]</td>\n",
       "    </tr>\n",
       "    <tr>\n",
       "      <th>13</th>\n",
       "      <td>[yarn]</td>\n",
       "      <td>[[cat laying on a bed, a hat with a hat, cat h...</td>\n",
       "      <td>[229387]</td>\n",
       "      <td>[2293870]</td>\n",
       "      <td>What material is the hat made out of?</td>\n",
       "      <td>[clear, wood, wood\\n]</td>\n",
       "    </tr>\n",
       "    <tr>\n",
       "      <th>14</th>\n",
       "      <td>[gray]</td>\n",
       "      <td>[[cat laying on a bed, a hat with a hat, cat h...</td>\n",
       "      <td>[229387]</td>\n",
       "      <td>[2293871]</td>\n",
       "      <td>What color is the carpet?</td>\n",
       "      <td>[brown, white, red]</td>\n",
       "    </tr>\n",
       "  </tbody>\n",
       "</table>\n",
       "</div>"
      ],
      "text/plain": [
       "          answers                                           captions  \\\n",
       "0            [no]  [[a traffic light, a red traffic light, a city...   \n",
       "1   [city street]  [[a traffic light, a red traffic light, a city...   \n",
       "2           [yes]  [[a traffic light, a red traffic light, a city...   \n",
       "3         [black]  [[a cat in a sink, the cat is looking at the c...   \n",
       "4         [brush]  [[a cat in a sink, the cat is looking at the c...   \n",
       "5        [toilet]  [[a cat in a sink, the cat is looking at the c...   \n",
       "6           [yes]  [[man carrying a surfboard, two people walking...   \n",
       "7    [surfboards]  [[man carrying a surfboard, two people walking...   \n",
       "8    [surfboards]  [[man carrying a surfboard, two people walking...   \n",
       "9            [no]  [[a red fire hydrant, red fire hydrant, red fi...   \n",
       "10          [yes]  [[a red fire hydrant, red fire hydrant, red fi...   \n",
       "11          [yes]  [[a red fire hydrant, red fire hydrant, red fi...   \n",
       "12          [yes]  [[cat laying on a bed, a hat with a hat, cat h...   \n",
       "13         [yarn]  [[cat laying on a bed, a hat with a hat, cat h...   \n",
       "14         [gray]  [[cat laying on a bed, a hat with a hat, cat h...   \n",
       "\n",
       "    image_id question_ids                                          questions  \\\n",
       "0   [360449]    [3604490]  Is this the best sunset picture you've ever seen?   \n",
       "1   [360449]    [3604491]                               What street is this?   \n",
       "2   [360449]    [3604492]           Are there lots of lights in this street?   \n",
       "3   [245764]    [2457640]  What color is the cat sitting on top of the to...   \n",
       "4   [245764]    [2457641]                  What is next to the toilet paper?   \n",
       "5   [245764]    [2457642]                                  Where is the cat?   \n",
       "6   [434177]    [4341770]                    Will the people's feet get wet?   \n",
       "7   [434177]    [4341771]          What are the people caring in their arms?   \n",
       "8   [434177]    [4341772]                            What are they carrying?   \n",
       "9   [229385]    [2293850]                  Does the hydrant need repainting?   \n",
       "10  [229385]    [2293851]                            Why is the hydrant red?   \n",
       "11  [229385]    [2293852]  Was the photographer looking down at the red t...   \n",
       "12  [229387]    [2293872]      Would one suspect the cat finds this tedious?   \n",
       "13  [229387]    [2293870]              What material is the hat made out of?   \n",
       "14  [229387]    [2293871]                          What color is the carpet?   \n",
       "\n",
       "                       top_answers  \n",
       "0                 [no, yes, yes\\n]  \n",
       "1           [racing, beige, beach]  \n",
       "2                 [no, yes, yes\\n]  \n",
       "3             [blue, green, white]  \n",
       "4             [soup, water, phone]  \n",
       "5   [parking lot, plane, umbrella]  \n",
       "6                  [no, yes, no\\n]  \n",
       "7                  [cake, down, 9]  \n",
       "8           [taxi, cake\\n, flying]  \n",
       "9                 [yes\\n, no, yes]  \n",
       "10           [yes, playing, rocks]  \n",
       "11                [yes, no, yes\\n]  \n",
       "12                 [no, no\\n, yes]  \n",
       "13           [clear, wood, wood\\n]  \n",
       "14             [brown, white, red]  "
      ]
     },
     "execution_count": 3,
     "metadata": {},
     "output_type": "execute_result"
    }
   ],
   "source": [
    "df.head(15)"
   ]
  }
 ],
 "metadata": {
  "kernelspec": {
   "display_name": "Python 3",
   "language": "python",
   "name": "python3"
  },
  "language_info": {
   "codemirror_mode": {
    "name": "ipython",
    "version": 3
   },
   "file_extension": ".py",
   "mimetype": "text/x-python",
   "name": "python",
   "nbconvert_exporter": "python",
   "pygments_lexer": "ipython3",
   "version": "3.5.2"
  }
 },
 "nbformat": 4,
 "nbformat_minor": 2
}
