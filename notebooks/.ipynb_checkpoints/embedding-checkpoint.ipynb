{
 "cells": [
  {
   "cell_type": "code",
   "execution_count": 5,
   "metadata": {},
   "outputs": [
    {
     "name": "stdout",
     "output_type": "stream",
     "text": [
      "ex:1/i:52343\n",
      "ex:2/i:128261\n",
      "ex:3/i:151102\n",
      "ex:4/i:200668\n",
      "ex:5/i:209833\n",
      "ex:6/i:220779\n",
      "ex:7/i:253461\n",
      "ex:8/i:365745\n",
      "ex:9/i:532048\n",
      "ex:10/i:717302\n",
      "ex:11/i:994818\n",
      "ex:12/i:1123331\n",
      "ex:13/i:1148409\n",
      "ex:14/i:1352110\n",
      "ex:15/i:1499727\n",
      "ex:16/i:1533809\n",
      "ex:17/i:1899841\n",
      "ex:18/i:1921152\n",
      "ex:19/i:2058966\n",
      "ex:20/i:2165246\n"
     ]
    }
   ],
   "source": [
    "import numpy as np\n",
    "import h5py\n",
    "import pickle\n",
    "import argparse\n",
    "\n",
    "\n",
    "glove_path = './../embeddings/glove.840B.300d.txt'\n",
    "embedding_matrix_path = './../embeddings/embedding_matrix.h5'\n",
    "word_idx_path = './../embeddings/word_idx'\n",
    "embeddings = {}\n",
    "word_idx = {}\n",
    "\n",
    "cnt = 0\n",
    "with open(glove_path,'r') as f:\n",
    "    for i, line in enumerate(f):\n",
    "        values = line.split()\n",
    "        word = values[0]\n",
    "        try:\n",
    "            coefs = np.asarray(values[1:],dtype='float32')\n",
    "        except Exception as ex:\n",
    "            cnt += 1\n",
    "            print(\"ex:{}/i:{}\".format(cnt, i))\n",
    "            continue\n",
    "        embeddings[word] = coefs\n",
    "        word_idx[word] = i+1\n"
   ]
  },
  {
   "cell_type": "code",
   "execution_count": 13,
   "metadata": {},
   "outputs": [
    {
     "name": "stdout",
     "output_type": "stream",
     "text": [
      "2195884\n"
     ]
    }
   ],
   "source": [
    "# num_words = len(word_idx)\n",
    "# with open('word_idx.csv', 'w') as f:\n",
    "#     for key in word_idx:\n",
    "#         f.write('{0} {1}\\n'.format(key, word_idx[key]))\n",
    "# print(num_words)"
   ]
  },
  {
   "cell_type": "code",
   "execution_count": 15,
   "metadata": {},
   "outputs": [
    {
     "name": "stdout",
     "output_type": "stream",
     "text": [
      "2195884\n"
     ]
    }
   ],
   "source": [
    "word_idx1 = {}\n",
    "with open('word_idx.csv') as f:\n",
    "    for line in f:\n",
    "        word, idx = line.split(' ')\n",
    "        idx = int(idx)\n",
    "        word_idx1[word] = idx\n",
    "print(len(word_idx1))"
   ]
  },
  {
   "cell_type": "code",
   "execution_count": 9,
   "metadata": {},
   "outputs": [
    {
     "ename": "MemoryError",
     "evalue": "",
     "output_type": "error",
     "traceback": [
      "\u001b[0;31m---------------------------------------------------------------------------\u001b[0m",
      "\u001b[0;31mMemoryError\u001b[0m                               Traceback (most recent call last)",
      "\u001b[0;32m<ipython-input-9-5fd3177796d4>\u001b[0m in \u001b[0;36m<module>\u001b[0;34m()\u001b[0m\n\u001b[0;32m----> 1\u001b[0;31m \u001b[0membedding_matrix\u001b[0m \u001b[0;34m=\u001b[0m \u001b[0mnp\u001b[0m\u001b[0;34m.\u001b[0m\u001b[0mzeros\u001b[0m\u001b[0;34m(\u001b[0m\u001b[0;34m(\u001b[0m\u001b[0;36m1\u001b[0m\u001b[0;34m+\u001b[0m\u001b[0mnum_words\u001b[0m\u001b[0;34m,\u001b[0m\u001b[0;36m300\u001b[0m\u001b[0;34m)\u001b[0m\u001b[0;34m)\u001b[0m\u001b[0;34m\u001b[0m\u001b[0m\n\u001b[0m\u001b[1;32m      2\u001b[0m \u001b[0;34m\u001b[0m\u001b[0m\n\u001b[1;32m      3\u001b[0m \u001b[0;32mfor\u001b[0m \u001b[0mi\u001b[0m\u001b[0;34m,\u001b[0m \u001b[0mword\u001b[0m \u001b[0;32min\u001b[0m \u001b[0menumerate\u001b[0m\u001b[0;34m(\u001b[0m\u001b[0mword_idx\u001b[0m\u001b[0;34m.\u001b[0m\u001b[0mkeys\u001b[0m\u001b[0;34m(\u001b[0m\u001b[0;34m)\u001b[0m\u001b[0;34m)\u001b[0m\u001b[0;34m:\u001b[0m\u001b[0;34m\u001b[0m\u001b[0m\n\u001b[1;32m      4\u001b[0m     \u001b[0membedding_matrix\u001b[0m\u001b[0;34m[\u001b[0m\u001b[0mi\u001b[0m\u001b[0;34m+\u001b[0m\u001b[0;36m1\u001b[0m\u001b[0;34m]\u001b[0m \u001b[0;34m=\u001b[0m \u001b[0membeddings\u001b[0m\u001b[0;34m[\u001b[0m\u001b[0mword\u001b[0m\u001b[0;34m]\u001b[0m\u001b[0;34m\u001b[0m\u001b[0m\n\u001b[1;32m      5\u001b[0m \u001b[0;34m\u001b[0m\u001b[0m\n",
      "\u001b[0;31mMemoryError\u001b[0m: "
     ]
    }
   ],
   "source": [
    "embedding_matrix = np.zeros((1+num_words,300))\n",
    "\n",
    "for i, word in enumerate(word_idx.keys()):\n",
    "    embedding_matrix[i+1] = embeddings[word]\n",
    "\n",
    "with h5py.File(embedding_matrix_path, 'w') as hf:\n",
    "    hf.create_dataset('embedding_matrix',data=embedding_matrix)\n",
    "\n",
    "with open(word_idx_path,'w') as f:\n",
    "    pickle.dump(word_idx,f)"
   ]
  }
 ],
 "metadata": {
  "kernelspec": {
   "display_name": "Python 3",
   "language": "python",
   "name": "python3"
  },
  "language_info": {
   "codemirror_mode": {
    "name": "ipython",
    "version": 3
   },
   "file_extension": ".py",
   "mimetype": "text/x-python",
   "name": "python",
   "nbconvert_exporter": "python",
   "pygments_lexer": "ipython3",
   "version": "3.5.2"
  }
 },
 "nbformat": 4,
 "nbformat_minor": 2
}
