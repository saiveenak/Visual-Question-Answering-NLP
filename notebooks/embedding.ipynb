{
 "cells": [
  {
   "cell_type": "code",
   "execution_count": 1,
   "metadata": {},
   "outputs": [],
   "source": [
    "import numpy as np\n",
    "import h5py\n",
    "import pickle\n",
    "import argparse\n",
    "\n",
    "glove_path = './../embeddings/glove.840B.300d.txt'\n",
    "embedding_matrix_path = './../embeddings/embedding_matrix.h5'\n",
    "word_idx_path = './../embeddings/word_idx'\n",
    "embeddings = {}\n",
    "word_idx = {}"
   ]
  },
  {
   "cell_type": "code",
   "execution_count": 8,
   "metadata": {},
   "outputs": [
    {
     "name": "stdout",
     "output_type": "stream",
     "text": [
      "ex:1/i:52343\n",
      "ex:2/i:128261\n",
      "ex:3/i:151102\n",
      "ex:4/i:200668\n",
      "ex:5/i:209833\n",
      "ex:6/i:220779\n",
      "ex:7/i:253461\n",
      "ex:8/i:365745\n",
      "ex:9/i:532048\n",
      "ex:10/i:717302\n",
      "ex:11/i:994818\n",
      "ex:12/i:1123331\n",
      "ex:13/i:1148409\n",
      "ex:14/i:1352110\n",
      "ex:15/i:1499727\n",
      "ex:16/i:1533809\n",
      "ex:17/i:1899841\n",
      "ex:18/i:1921152\n",
      "ex:19/i:2058966\n",
      "ex:20/i:2165246\n"
     ]
    }
   ],
   "source": [
    "cnt = 0\n",
    "with open(glove_path,'r') as f:\n",
    "    for i, line in enumerate(f):\n",
    "        values = line.split()\n",
    "        word = values[0]\n",
    "        try:\n",
    "            coefs = np.asarray(values[1:],dtype='float32')\n",
    "        except Exception as ex:\n",
    "            cnt += 1\n",
    "            print(\"ex:{}/i:{}\".format(cnt, i))\n",
    "            continue\n",
    "        embeddings[word] = coefs\n",
    "        word_idx[word] = i+1"
   ]
  },
  {
   "cell_type": "code",
   "execution_count": 13,
   "metadata": {},
   "outputs": [
    {
     "name": "stdout",
     "output_type": "stream",
     "text": [
      "2195884\n"
     ]
    }
   ],
   "source": [
    "# num_words = len(word_idx)\n",
    "# with open('word_idx.csv', 'w') as f:\n",
    "#     for key in word_idx:\n",
    "#         f.write('{0} {1}\\n'.format(key, word_idx[key]))\n",
    "# print(num_words)"
   ]
  },
  {
   "cell_type": "code",
   "execution_count": 6,
   "metadata": {},
   "outputs": [
    {
     "name": "stdout",
     "output_type": "stream",
     "text": [
      "2195884\n"
     ]
    }
   ],
   "source": [
    "word_idx = {}\n",
    "with open('word_idx.csv') as f:\n",
    "    for line in f:\n",
    "        word, idx = line.split(' ')\n",
    "        idx = int(idx)\n",
    "        word_idx[word] = idx\n",
    "print(len(word_idx))\n",
    "num_words = len(word_idx)"
   ]
  },
  {
   "cell_type": "code",
   "execution_count": 11,
   "metadata": {},
   "outputs": [
    {
     "name": "stdout",
     "output_type": "stream",
     "text": [
      "ex:1/i:75355\n",
      "ex:2/i:151665\n",
      "ex:3/i:225902\n",
      "ex:4/i:623105\n",
      "ex:5/i:1139368\n",
      "ex:6/i:1710770\n",
      "ex:7/i:1908950\n",
      "ex:8/i:1956682\n",
      "ex:9/i:2133188\n"
     ]
    },
    {
     "ename": "TypeError",
     "evalue": "write() argument must be str, not bytes",
     "output_type": "error",
     "traceback": [
      "\u001b[0;31m---------------------------------------------------------------------------\u001b[0m",
      "\u001b[0;31mTypeError\u001b[0m                                 Traceback (most recent call last)",
      "\u001b[0;32m<ipython-input-11-19e4977b14c2>\u001b[0m in \u001b[0;36m<module>\u001b[0;34m()\u001b[0m\n\u001b[1;32m     13\u001b[0m \u001b[0;34m\u001b[0m\u001b[0m\n\u001b[1;32m     14\u001b[0m \u001b[0;32mwith\u001b[0m \u001b[0mopen\u001b[0m\u001b[0;34m(\u001b[0m\u001b[0mword_idx_path\u001b[0m\u001b[0;34m,\u001b[0m\u001b[0;34m'w'\u001b[0m\u001b[0;34m)\u001b[0m \u001b[0;32mas\u001b[0m \u001b[0mf\u001b[0m\u001b[0;34m:\u001b[0m\u001b[0;34m\u001b[0m\u001b[0m\n\u001b[0;32m---> 15\u001b[0;31m     \u001b[0mpickle\u001b[0m\u001b[0;34m.\u001b[0m\u001b[0mdump\u001b[0m\u001b[0;34m(\u001b[0m\u001b[0mword_idx\u001b[0m\u001b[0;34m,\u001b[0m\u001b[0mf\u001b[0m\u001b[0;34m)\u001b[0m\u001b[0;34m\u001b[0m\u001b[0m\n\u001b[0m",
      "\u001b[0;31mTypeError\u001b[0m: write() argument must be str, not bytes"
     ]
    }
   ],
   "source": [
    "embedding_matrix = np.zeros((1+num_words,300))\n",
    "cnt = 0\n",
    "for i, word in enumerate(word_idx.keys()):\n",
    "    try:\n",
    "        embedding_matrix[i+1] = embeddings[word]\n",
    "    except:\n",
    "        cnt += 1\n",
    "        print(\"ex:{}/i:{}\".format(cnt, i))\n",
    "        continue\n",
    "\n",
    "with h5py.File(embedding_matrix_path, 'w') as hf:\n",
    "    hf.create_dataset('embedding_matrix',data=embedding_matrix)\n",
    "\n",
    "with open(word_idx_path,'w') as f:\n",
    "    pickle.dump(word_idx,f)"
   ]
  }
 ],
 "metadata": {
  "kernelspec": {
   "display_name": "Python 3",
   "language": "python",
   "name": "python3"
  },
  "language_info": {
   "codemirror_mode": {
    "name": "ipython",
    "version": 3
   },
   "file_extension": ".py",
   "mimetype": "text/x-python",
   "name": "python",
   "nbconvert_exporter": "python",
   "pygments_lexer": "ipython3",
   "version": "3.5.2"
  }
 },
 "nbformat": 4,
 "nbformat_minor": 2
}
